{
 "cells": [
  {
   "cell_type": "code",
   "execution_count": 1,
   "metadata": {},
   "outputs": [],
   "source": [
    "import numpy as np\n",
    "import pandas as pd\n",
    "import _pickle as pickle\n",
    "%matplotlib inline\n",
    "import matplotlib.pyplot as plt"
   ]
  },
  {
   "cell_type": "code",
   "execution_count": 2,
   "metadata": {},
   "outputs": [],
   "source": [
    "with open('fingerprint.dat', 'rb') as fp:\n",
    "    X_train = pickle.load(fp)\n",
    "    X_train_std = pickle.load(fp)\n",
    "    X_test = pickle.load(fp)\n",
    "    X_test_std = pickle.load(fp)\n",
    "    y_train = pickle.load(fp)\n",
    "    y_test = pickle.load(fp)\n",
    "    X_std_pca = pickle.load(fp)"
   ]
  },
  {
   "cell_type": "code",
   "execution_count": 3,
   "metadata": {},
   "outputs": [
    {
     "name": "stdout",
     "output_type": "stream",
     "text": [
      "X_train shape:  (400, 6)\n",
      "X_test shape:  (100, 6)\n",
      "y_train shape:  (400,)\n",
      "y_test shape:  (100,)\n",
      "X_std_pca shape:  (400, 2)\n",
      "X_std_pca dimension:  2\n"
     ]
    }
   ],
   "source": [
    "print(\"X_train shape: \", X_train.shape)\n",
    "print(\"X_test shape: \", X_test.shape)\n",
    "print(\"y_train shape: \", y_train.shape)\n",
    "print(\"y_test shape: \", y_test.shape)\n",
    "print(\"X_std_pca shape: \", X_std_pca.shape)\n",
    "print(\"X_std_pca dimension: \", X_std_pca.ndim)"
   ]
  },
  {
   "cell_type": "markdown",
   "metadata": {},
   "source": [
    "# Machine learning classification models implementation"
   ]
  },
  {
   "cell_type": "markdown",
   "metadata": {},
   "source": [
    "### 1. Logistic regression "
   ]
  },
  {
   "cell_type": "code",
   "execution_count": 4,
   "metadata": {},
   "outputs": [],
   "source": [
    "from sklearn.model_selection import cross_val_score\n",
    "from sklearn.metrics import confusion_matrix\n",
    "from sklearn.metrics import precision_score, recall_score, f1_score"
   ]
  },
  {
   "cell_type": "code",
   "execution_count": 5,
   "metadata": {},
   "outputs": [],
   "source": [
    "final_score_list = [] #Catch the final score of each m/c learning model"
   ]
  },
  {
   "cell_type": "code",
   "execution_count": 6,
   "metadata": {},
   "outputs": [],
   "source": [
    "from sklearn.linear_model import LogisticRegression"
   ]
  },
  {
   "cell_type": "code",
   "execution_count": 7,
   "metadata": {},
   "outputs": [
    {
     "name": "stdout",
     "output_type": "stream",
     "text": [
      "log_scores:  [0.925 0.9   0.95  0.95  1.    1.    0.875 0.925 0.95  0.9  ]\n",
      "Mean score:  0.9375\n",
      "Std deviation:  0.03913118960624631\n"
     ]
    }
   ],
   "source": [
    "log_model = LogisticRegression(solver = 'lbfgs', random_state = 42)\n",
    "log_scores = cross_val_score(log_model, X_train_std, y_train, cv = 10)\n",
    "print(\"log_scores: \", log_scores)\n",
    "print(\"Mean score: \", log_scores.mean())\n",
    "print(\"Std deviation: \", log_scores.std())"
   ]
  },
  {
   "cell_type": "code",
   "execution_count": 8,
   "metadata": {},
   "outputs": [
    {
     "data": {
      "text/plain": [
       "LogisticRegression(C=1.0, class_weight=None, dual=False, fit_intercept=True,\n",
       "          intercept_scaling=1, max_iter=100, multi_class='warn',\n",
       "          n_jobs=None, penalty='l2', random_state=42, solver='lbfgs',\n",
       "          tol=0.0001, verbose=0, warm_start=False)"
      ]
     },
     "execution_count": 8,
     "metadata": {},
     "output_type": "execute_result"
    }
   ],
   "source": [
    "log_model.fit(X_train_std, y_train)"
   ]
  },
  {
   "cell_type": "code",
   "execution_count": 9,
   "metadata": {},
   "outputs": [
    {
     "data": {
      "text/plain": [
       "0.94"
      ]
     },
     "execution_count": 9,
     "metadata": {},
     "output_type": "execute_result"
    }
   ],
   "source": [
    "log_reg_score = log_model.score(X_test_std, y_test)\n",
    "final_score_list.append(log_reg_score)\n",
    "log_reg_score"
   ]
  },
  {
   "cell_type": "code",
   "execution_count": 10,
   "metadata": {},
   "outputs": [],
   "source": [
    "log_yy_pred = log_model.predict(X_test_std) "
   ]
  },
  {
   "cell_type": "code",
   "execution_count": 11,
   "metadata": {},
   "outputs": [
    {
     "name": "stdout",
     "output_type": "stream",
     "text": [
      "48 2 4 46\n",
      "[[48  2]\n",
      " [ 4 46]]\n"
     ]
    }
   ],
   "source": [
    "log_model_confMatrix = confusion_matrix(y_true=y_test, y_pred=log_yy_pred)\n",
    "tn, fp, fn, tp = confusion_matrix(y_true=y_test, y_pred=log_yy_pred).ravel()\n",
    "print(tn, fp, fn, tp)\n",
    "\n",
    "print(log_model_confMatrix)"
   ]
  },
  {
   "cell_type": "code",
   "execution_count": 12,
   "metadata": {
    "scrolled": true
   },
   "outputs": [
    {
     "name": "stdout",
     "output_type": "stream",
     "text": [
      "Precision: 0.958\n",
      "Recall: 0.920\n",
      "F1: 0.939\n"
     ]
    }
   ],
   "source": [
    "print('Precision: %.3f' % precision_score(y_true=y_test, y_pred=log_yy_pred))\n",
    "print('Recall: %.3f' % recall_score(y_true=y_test, y_pred=log_yy_pred))\n",
    "print('F1: %.3f' % f1_score(y_true=y_test, y_pred=log_yy_pred))"
   ]
  },
  {
   "cell_type": "code",
   "execution_count": 13,
   "metadata": {},
   "outputs": [],
   "source": [
    "log_model_fg_patches_x , log_model_fg_patches_y = [], []\n",
    "log_model_bg_patches_x, log_model_bg_patches_y = [], []\n",
    "\n",
    "for i in range(len(X_std_pca)):\n",
    "    if y_train.iloc[i] == 0:\n",
    "        log_model_bg_patches_x.append(X_std_pca[i][0])\n",
    "        log_model_bg_patches_y.append(X_std_pca[i][1])\n",
    "    elif y_train.iloc[i] == 1:\n",
    "        log_model_fg_patches_x.append(X_std_pca[i][0])\n",
    "        log_model_fg_patches_y.append(X_std_pca[i][1])"
   ]
  },
  {
   "cell_type": "code",
   "execution_count": 14,
   "metadata": {},
   "outputs": [
    {
     "data": {
      "image/png": "[encoded data removed]",
      "text/plain": [
       "<Figure size 432x288 with 1 Axes>"
      ]
     },
     "metadata": {
      "needs_background": "light"
     },
     "output_type": "display_data"
    }
   ],
   "source": [
    "plt.plot(log_model_fg_patches_x, log_model_fg_patches_y, 'bo', label='Foreground')\n",
    "plt.plot(log_model_bg_patches_x, log_model_bg_patches_y, 'go', label='Background')\n",
    "\n",
    "plt.xlabel('PCA_Feature1')\n",
    "plt.ylabel('PCA_Feature2')\n",
    "\n",
    "plt.show()"
   ]
  },
  {
   "cell_type": "markdown",
   "metadata": {},
   "source": [
    "#### Calaculation using pca features "
   ]
  },
  {
   "cell_type": "code",
   "execution_count": 15,
   "metadata": {},
   "outputs": [],
   "source": [
    "from sklearn.decomposition import PCA"
   ]
  },
  {
   "cell_type": "code",
   "execution_count": 16,
   "metadata": {},
   "outputs": [
    {
     "data": {
      "text/plain": [
       "(100, 6)"
      ]
     },
     "execution_count": 16,
     "metadata": {},
     "output_type": "execute_result"
    }
   ],
   "source": [
    "pca = PCA(n_components = 6)\n",
    "pca.fit(X_train_std)\n",
    "X_std_train_pca = pca.transform(X_train_std)\n",
    "\n",
    "X_std_test_pca = pca.transform(X_test_std)\n",
    "# X_std_test_pca = pca.fit_transform(X_test_std)\n",
    "log_model.fit(X_std_train_pca, y_train)\n",
    "\n",
    "X_std_test_pca.shape"
   ]
  },
  {
   "cell_type": "code",
   "execution_count": 17,
   "metadata": {},
   "outputs": [
    {
     "data": {
      "text/plain": [
       "0.94"
      ]
     },
     "execution_count": 17,
     "metadata": {},
     "output_type": "execute_result"
    }
   ],
   "source": [
    "log_model_score_pca = log_model.score(X_std_test_pca, y_test)\n",
    "log_model_score_pca"
   ]
  },
  {
   "cell_type": "markdown",
   "metadata": {},
   "source": [
    "#### Logistic Regression\n",
    "##### Mean score:  0.9375 +/- 0.039\n",
    "##### Final score: 0.94"
   ]
  },
  {
   "cell_type": "markdown",
   "metadata": {},
   "source": [
    "### 2.1 Support Vector Machines - SVC linear  "
   ]
  },
  {
   "cell_type": "code",
   "execution_count": 18,
   "metadata": {},
   "outputs": [],
   "source": [
    "from sklearn.svm import SVC"
   ]
  },
  {
   "cell_type": "code",
   "execution_count": 19,
   "metadata": {},
   "outputs": [],
   "source": [
    "#Best estimator obtained from 02_hyp_svc_linear_and_rbf file\n",
    "svm_linear_model = SVC(C=49, cache_size=200, class_weight=None, coef0=0.0,\n",
    "  decision_function_shape='ovr', degree=3, gamma='auto_deprecated',\n",
    "  kernel='linear', max_iter=-1, probability=False, random_state=42,\n",
    "  shrinking=True, tol=0.001, verbose=False)"
   ]
  },
  {
   "cell_type": "code",
   "execution_count": 20,
   "metadata": {},
   "outputs": [
    {
     "name": "stdout",
     "output_type": "stream",
     "text": [
      "svm_linear_scores:  [0.925 0.9   0.95  0.975 1.    1.    0.9   0.925 0.95  0.875]\n",
      "Mean score:  0.9400000000000001\n",
      "Std deviation:  0.04062019202317979\n"
     ]
    }
   ],
   "source": [
    "svm_linear_scores = cross_val_score(svm_linear_model, X_train_std, y_train, cv = 10)\n",
    "print(\"svm_linear_scores: \", svm_linear_scores)\n",
    "print(\"Mean score: \", svm_linear_scores.mean())\n",
    "print(\"Std deviation: \", svm_linear_scores.std())"
   ]
  },
  {
   "cell_type": "code",
   "execution_count": 21,
   "metadata": {},
   "outputs": [
    {
     "data": {
      "text/plain": [
       "0.98"
      ]
     },
     "execution_count": 21,
     "metadata": {},
     "output_type": "execute_result"
    }
   ],
   "source": [
    "svm_linear_model.fit(X_train_std, y_train)\n",
    "svm_linear_score = svm_linear_model.score(X_test_std, y_test)\n",
    "final_score_list.append(svm_linear_score)\n",
    "\n",
    "svm_linear_score"
   ]
  },
  {
   "cell_type": "code",
   "execution_count": 22,
   "metadata": {},
   "outputs": [
    {
     "data": {
      "text/plain": [
       "array([0, 1, 0, 1, 1, 0, 0, 0, 1, 0, 0, 0, 0, 0, 1, 0, 1, 0, 1, 1, 0, 1,\n",
       "       1, 1, 1, 1, 1, 0, 1, 1, 1, 1, 1, 0, 1, 1, 0, 0, 1, 0, 0, 0, 0, 1,\n",
       "       1, 0, 0, 0, 0, 0, 0, 1, 1, 1, 0, 0, 1, 0, 0, 0, 1, 0, 0, 1, 0, 0,\n",
       "       0, 1, 1, 1, 0, 0, 0, 1, 1, 0, 0, 1, 1, 0, 0, 1, 0, 0, 1, 1, 1, 1,\n",
       "       1, 1, 1, 0, 1, 0, 0, 0, 0, 0, 1, 1])"
      ]
     },
     "execution_count": 22,
     "metadata": {},
     "output_type": "execute_result"
    }
   ],
   "source": [
    "svm_linear_yy_pred = svm_linear_model.predict(X_test_std) \n",
    "svm_linear_yy_pred"
   ]
  },
  {
   "cell_type": "code",
   "execution_count": 23,
   "metadata": {},
   "outputs": [
    {
     "name": "stdout",
     "output_type": "stream",
     "text": [
      "[[50  0]\n",
      " [ 2 48]]\n"
     ]
    }
   ],
   "source": [
    "svm_linear_model_confMatrix = confusion_matrix(y_true=y_test, y_pred=svm_linear_yy_pred)\n",
    "print(svm_linear_model_confMatrix)"
   ]
  },
  {
   "cell_type": "code",
   "execution_count": 24,
   "metadata": {},
   "outputs": [
    {
     "name": "stdout",
     "output_type": "stream",
     "text": [
      "Precision: 1.000\n",
      "Recall: 0.960\n",
      "F1: 0.980\n"
     ]
    }
   ],
   "source": [
    "print('Precision: %.3f' % precision_score(y_true=y_test, y_pred=svm_linear_yy_pred))\n",
    "print('Recall: %.3f' % recall_score(y_true=y_test, y_pred=svm_linear_yy_pred))\n",
    "print('F1: %.3f' % f1_score(y_true=y_test, y_pred=svm_linear_yy_pred))"
   ]
  },
  {
   "cell_type": "code",
   "execution_count": 25,
   "metadata": {},
   "outputs": [],
   "source": [
    "svmlr_model_fg_patches_x , svmlr_model_fg_patches_y = [], []\n",
    "svmlr_model_bg_patches_x, svmlr_model_bg_patches_y = [], []\n",
    "\n",
    "for i in range(len(X_std_pca)):\n",
    "    if y_train.iloc[i] == 0:\n",
    "        svmlr_model_bg_patches_x.append(X_std_pca[i][0])\n",
    "        svmlr_model_bg_patches_y.append(X_std_pca[i][1])\n",
    "    elif y_train.iloc[i] == 1:\n",
    "        svmlr_model_fg_patches_x.append(X_std_pca[i][0])\n",
    "        svmlr_model_fg_patches_y.append(X_std_pca[i][1])"
   ]
  },
  {
   "cell_type": "code",
   "execution_count": 26,
   "metadata": {},
   "outputs": [
    {
     "data": {
      "image/png": "[encoded data removed]",
      "text/plain": [
       "<Figure size 432x288 with 1 Axes>"
      ]
     },
     "metadata": {
      "needs_background": "light"
     },
     "output_type": "display_data"
    }
   ],
   "source": [
    "plt.plot(svmlr_model_fg_patches_x, svmlr_model_fg_patches_y, 'bo', label='Foreground')\n",
    "plt.plot(svmlr_model_bg_patches_x, svmlr_model_bg_patches_y, 'go', label='Background')\n",
    "\n",
    "plt.xlabel('PCA_Feature1')\n",
    "plt.ylabel('PCA_Feature2')\n",
    "\n",
    "plt.show()"
   ]
  },
  {
   "cell_type": "markdown",
   "metadata": {},
   "source": [
    "#### SVM Linear\n",
    "##### Mean score:  0.9405 +/- 0.0406\n",
    "##### Final score: 0.98"
   ]
  },
  {
   "cell_type": "markdown",
   "metadata": {},
   "source": [
    "### 2.2 Support Vector Machines - SVC Kernal(rbf)"
   ]
  },
  {
   "cell_type": "code",
   "execution_count": 27,
   "metadata": {},
   "outputs": [],
   "source": [
    "#Best estimator obtained from 02_hyp_svc_linear_and_rbf file\n",
    "svm_rbf_model = SVC(C=5, cache_size=200, class_weight=None, coef0=0.0,\n",
    "  decision_function_shape='ovr', degree=3, gamma=0.6, kernel='rbf',\n",
    "  max_iter=-1, probability=False, random_state=42, shrinking=True,\n",
    "  tol=0.001, verbose=False)"
   ]
  },
  {
   "cell_type": "code",
   "execution_count": 28,
   "metadata": {},
   "outputs": [
    {
     "name": "stdout",
     "output_type": "stream",
     "text": [
      "svm_rbf_scores:  [0.975 0.925 0.975 0.975 1.    0.975 0.925 0.95  0.975 0.95 ]\n",
      "Mean score:  0.9624999999999998\n",
      "Std deviation:  0.023048861143232204\n"
     ]
    }
   ],
   "source": [
    "svm_rbf_scores = cross_val_score(svm_rbf_model, X_train_std, y_train, cv = 10)\n",
    "print(\"svm_rbf_scores: \", svm_rbf_scores)\n",
    "print(\"Mean score: \", svm_rbf_scores.mean())\n",
    "print(\"Std deviation: \", svm_rbf_scores.std())"
   ]
  },
  {
   "cell_type": "code",
   "execution_count": 29,
   "metadata": {},
   "outputs": [
    {
     "data": {
      "text/plain": [
       "0.99"
      ]
     },
     "execution_count": 29,
     "metadata": {},
     "output_type": "execute_result"
    }
   ],
   "source": [
    "svm_rbf_model.fit(X_train_std, y_train)\n",
    "svm_rbf_score = svm_rbf_model.score(X_test_std, y_test)\n",
    "final_score_list.append(svm_rbf_score)\n",
    "svm_rbf_score"
   ]
  },
  {
   "cell_type": "code",
   "execution_count": 30,
   "metadata": {},
   "outputs": [],
   "source": [
    "svm_rbf_yy_pred = svm_rbf_model.predict(X_test_std) "
   ]
  },
  {
   "cell_type": "code",
   "execution_count": 31,
   "metadata": {},
   "outputs": [
    {
     "name": "stdout",
     "output_type": "stream",
     "text": [
      "[[49  1]\n",
      " [ 0 50]]\n"
     ]
    }
   ],
   "source": [
    "svm_rbf_model_confMatrix = confusion_matrix(y_true=y_test, y_pred=svm_rbf_yy_pred)\n",
    "print(svm_rbf_model_confMatrix)"
   ]
  },
  {
   "cell_type": "code",
   "execution_count": 32,
   "metadata": {},
   "outputs": [
    {
     "name": "stdout",
     "output_type": "stream",
     "text": [
      "Precision: 0.980\n",
      "Recall: 1.000\n",
      "F1: 0.990\n"
     ]
    }
   ],
   "source": [
    "print('Precision: %.3f' % precision_score(y_true=y_test, y_pred=svm_rbf_yy_pred))\n",
    "print('Recall: %.3f' % recall_score(y_true=y_test, y_pred=svm_rbf_yy_pred))\n",
    "print('F1: %.3f' % f1_score(y_true=y_test, y_pred=svm_rbf_yy_pred))"
   ]
  },
  {
   "cell_type": "markdown",
   "metadata": {},
   "source": [
    "#### SVM rbf model\n",
    "##### Mean score:  0.96249 +/- 0.023\n",
    "##### Final score: 0.99"
   ]
  },
  {
   "cell_type": "markdown",
   "metadata": {},
   "source": [
    "### 3. Decision Tree Classifier"
   ]
  },
  {
   "cell_type": "code",
   "execution_count": 33,
   "metadata": {},
   "outputs": [],
   "source": [
    "from sklearn.tree import DecisionTreeClassifier"
   ]
  },
  {
   "cell_type": "code",
   "execution_count": 34,
   "metadata": {},
   "outputs": [],
   "source": [
    "#Best estimator obtained from 03_hyp_dec_tree file\n",
    "tree_clf_model = DecisionTreeClassifier(class_weight=None, criterion='gini', max_depth=3,\n",
    "            max_features=None, max_leaf_nodes=None,\n",
    "            min_impurity_decrease=0.0, min_impurity_split=None,\n",
    "            min_samples_leaf=1, min_samples_split=2,\n",
    "            min_weight_fraction_leaf=0.0, presort=False, random_state=42,\n",
    "            splitter='best')"
   ]
  },
  {
   "cell_type": "code",
   "execution_count": 35,
   "metadata": {},
   "outputs": [
    {
     "name": "stdout",
     "output_type": "stream",
     "text": [
      "tree_clf_scores:  [0.975 0.95  0.975 1.    1.    0.975 0.925 0.95  1.    0.925]\n",
      "Mean score:  0.9675\n",
      "Std deviation:  0.027499999999999986\n"
     ]
    }
   ],
   "source": [
    "tree_clf_scores = cross_val_score(tree_clf_model, X_train_std, y_train, cv = 10)\n",
    "print(\"tree_clf_scores: \", tree_clf_scores)\n",
    "print(\"Mean score: \", tree_clf_scores.mean())\n",
    "print(\"Std deviation: \", tree_clf_scores.std())"
   ]
  },
  {
   "cell_type": "code",
   "execution_count": 36,
   "metadata": {},
   "outputs": [
    {
     "data": {
      "text/plain": [
       "0.99"
      ]
     },
     "execution_count": 36,
     "metadata": {},
     "output_type": "execute_result"
    }
   ],
   "source": [
    "tree_clf_model.fit(X_train_std, y_train)\n",
    "tree_clf_score = tree_clf_model.score(X_test_std, y_test)\n",
    "final_score_list.append(tree_clf_score)\n",
    "tree_clf_score"
   ]
  },
  {
   "cell_type": "code",
   "execution_count": 37,
   "metadata": {},
   "outputs": [],
   "source": [
    "tree_clf_yy_pred = tree_clf_model.predict(X_test_std) "
   ]
  },
  {
   "cell_type": "code",
   "execution_count": 38,
   "metadata": {},
   "outputs": [
    {
     "name": "stdout",
     "output_type": "stream",
     "text": [
      "[[49  1]\n",
      " [ 0 50]]\n"
     ]
    }
   ],
   "source": [
    "tree_clf_model_confMatrix = confusion_matrix(y_true=y_test, y_pred=tree_clf_yy_pred)\n",
    "print(tree_clf_model_confMatrix)"
   ]
  },
  {
   "cell_type": "code",
   "execution_count": 39,
   "metadata": {},
   "outputs": [
    {
     "name": "stdout",
     "output_type": "stream",
     "text": [
      "Precision: 0.980\n",
      "Recall: 1.000\n",
      "F1: 0.990\n"
     ]
    }
   ],
   "source": [
    "print('Precision: %.3f' % precision_score(y_true=y_test, y_pred=tree_clf_yy_pred))\n",
    "print('Recall: %.3f' % recall_score(y_true=y_test, y_pred=tree_clf_yy_pred))\n",
    "print('F1: %.3f' % f1_score(y_true=y_test, y_pred=tree_clf_yy_pred))"
   ]
  },
  {
   "cell_type": "markdown",
   "metadata": {},
   "source": [
    "#### Decision Tree Classifier\n",
    "##### Mean score: 0.9675 +/- 0.02749\n",
    "##### Final score: 0.99"
   ]
  },
  {
   "cell_type": "markdown",
   "metadata": {},
   "source": [
    "### 4. Random Forest Classifier"
   ]
  },
  {
   "cell_type": "code",
   "execution_count": 40,
   "metadata": {},
   "outputs": [],
   "source": [
    "from sklearn.ensemble import RandomForestClassifier"
   ]
  },
  {
   "cell_type": "code",
   "execution_count": 41,
   "metadata": {},
   "outputs": [],
   "source": [
    "#Best estimator obtained from 04_hyp_random_forest_clf file\n",
    "random_forest_clf_model = RandomForestClassifier(bootstrap=True, class_weight=None, criterion='gini',\n",
    "            max_depth=3, max_features='auto', max_leaf_nodes=None,\n",
    "            min_impurity_decrease=0.0, min_impurity_split=None,\n",
    "            min_samples_leaf=1, min_samples_split=2,\n",
    "            min_weight_fraction_leaf=0.0, n_estimators=17, n_jobs=None,\n",
    "            oob_score=False, random_state=42, verbose=0, warm_start=False)"
   ]
  },
  {
   "cell_type": "code",
   "execution_count": 42,
   "metadata": {},
   "outputs": [
    {
     "name": "stdout",
     "output_type": "stream",
     "text": [
      "random_forest_clf_scores:  [0.975 0.95  0.975 0.975 1.    1.    0.925 0.95  1.    0.9  ]\n",
      "Mean score:  0.9650000000000001\n",
      "Std deviation:  0.03201562118716424\n"
     ]
    }
   ],
   "source": [
    "random_forest_clf_scores = cross_val_score(random_forest_clf_model, X_train_std, y_train, cv = 10)\n",
    "print(\"random_forest_clf_scores: \", random_forest_clf_scores)\n",
    "print(\"Mean score: \", random_forest_clf_scores.mean())\n",
    "print(\"Std deviation: \", random_forest_clf_scores.std())"
   ]
  },
  {
   "cell_type": "code",
   "execution_count": 43,
   "metadata": {},
   "outputs": [
    {
     "data": {
      "text/plain": [
       "0.98"
      ]
     },
     "execution_count": 43,
     "metadata": {},
     "output_type": "execute_result"
    }
   ],
   "source": [
    "random_forest_clf_model.fit(X_train_std, y_train)\n",
    "random_forest_clf_score = random_forest_clf_model.score(X_test_std, y_test)\n",
    "final_score_list.append(random_forest_clf_score)\n",
    "random_forest_clf_score"
   ]
  },
  {
   "cell_type": "code",
   "execution_count": 44,
   "metadata": {},
   "outputs": [],
   "source": [
    "random_forest_clf_yy_pred = random_forest_clf_model.predict(X_test_std) "
   ]
  },
  {
   "cell_type": "code",
   "execution_count": 45,
   "metadata": {},
   "outputs": [
    {
     "name": "stdout",
     "output_type": "stream",
     "text": [
      "[[49  1]\n",
      " [ 1 49]]\n"
     ]
    }
   ],
   "source": [
    "random_forest_clf_model_confMatrix = confusion_matrix(y_true=y_test, y_pred=random_forest_clf_yy_pred)\n",
    "print(random_forest_clf_model_confMatrix)"
   ]
  },
  {
   "cell_type": "code",
   "execution_count": 46,
   "metadata": {},
   "outputs": [
    {
     "name": "stdout",
     "output_type": "stream",
     "text": [
      "Precision: 0.980\n",
      "Recall: 0.980\n",
      "F1: 0.980\n"
     ]
    }
   ],
   "source": [
    "print('Precision: %.3f' % precision_score(y_true=y_test, y_pred=random_forest_clf_yy_pred))\n",
    "print('Recall: %.3f' % recall_score(y_true=y_test, y_pred=random_forest_clf_yy_pred))\n",
    "print('F1: %.3f' % f1_score(y_true=y_test, y_pred=random_forest_clf_yy_pred))"
   ]
  },
  {
   "cell_type": "markdown",
   "metadata": {},
   "source": [
    "#### Random Forest Classifier\n",
    "##### Mean score:  0.9650+/- 0.0320\n",
    "##### Final score: 0.98"
   ]
  },
  {
   "cell_type": "markdown",
   "metadata": {},
   "source": [
    "### 5. Adaboost Classifier"
   ]
  },
  {
   "cell_type": "code",
   "execution_count": 47,
   "metadata": {},
   "outputs": [],
   "source": [
    "from sklearn.ensemble import AdaBoostClassifier"
   ]
  },
  {
   "cell_type": "code",
   "execution_count": 48,
   "metadata": {},
   "outputs": [],
   "source": [
    "#Best estimator obtained from 05_hyp_adaboost_clf file.\n",
    "adaboost_clf_model = AdaBoostClassifier(algorithm='SAMME.R',\n",
    "          base_estimator=DecisionTreeClassifier(class_weight=None, criterion='gini', max_depth=2,\n",
    "            max_features=None, max_leaf_nodes=None,\n",
    "            min_impurity_decrease=0.0, min_impurity_split=None,\n",
    "            min_samples_leaf=1, min_samples_split=2,\n",
    "            min_weight_fraction_leaf=0.0, presort=False, random_state=42,\n",
    "            splitter='best'),\n",
    "          learning_rate=0.6, n_estimators=21, random_state=42)"
   ]
  },
  {
   "cell_type": "code",
   "execution_count": 49,
   "metadata": {},
   "outputs": [
    {
     "name": "stdout",
     "output_type": "stream",
     "text": [
      "adaboost_clf_model_scores:  [0.95  0.9   0.95  0.925 1.    0.95  0.9   0.925 1.    0.9  ]\n",
      "Mean score:  0.9400000000000001\n",
      "Std deviation:  0.035707142142714234\n"
     ]
    }
   ],
   "source": [
    "adaboost_clf_model_scores = cross_val_score(adaboost_clf_model, X_train_std, y_train, cv = 10)\n",
    "print(\"adaboost_clf_model_scores: \", adaboost_clf_model_scores)\n",
    "print(\"Mean score: \", adaboost_clf_model_scores.mean())\n",
    "print(\"Std deviation: \", adaboost_clf_model_scores.std())"
   ]
  },
  {
   "cell_type": "code",
   "execution_count": 50,
   "metadata": {},
   "outputs": [
    {
     "data": {
      "text/plain": [
       "0.97"
      ]
     },
     "execution_count": 50,
     "metadata": {},
     "output_type": "execute_result"
    }
   ],
   "source": [
    "adaboost_clf_model.fit(X_train_std, y_train)\n",
    "adaboost_clf_model_score = adaboost_clf_model.score(X_test_std, y_test)\n",
    "final_score_list.append(adaboost_clf_model_score)\n",
    "adaboost_clf_model_score"
   ]
  },
  {
   "cell_type": "code",
   "execution_count": 51,
   "metadata": {},
   "outputs": [],
   "source": [
    "adaboost_clf_yy_pred = adaboost_clf_model.predict(X_test_std) "
   ]
  },
  {
   "cell_type": "code",
   "execution_count": 52,
   "metadata": {},
   "outputs": [
    {
     "name": "stdout",
     "output_type": "stream",
     "text": [
      "[[49  1]\n",
      " [ 2 48]]\n"
     ]
    }
   ],
   "source": [
    "adaboost_clf_model_confMatrix = confusion_matrix(y_true=y_test, y_pred=adaboost_clf_yy_pred)\n",
    "print(adaboost_clf_model_confMatrix)"
   ]
  },
  {
   "cell_type": "code",
   "execution_count": 53,
   "metadata": {},
   "outputs": [
    {
     "name": "stdout",
     "output_type": "stream",
     "text": [
      "Precision: 0.980\n",
      "Recall: 0.960\n",
      "F1: 0.970\n"
     ]
    }
   ],
   "source": [
    "print('Precision: %.3f' % precision_score(y_true=y_test, y_pred=adaboost_clf_yy_pred))\n",
    "print('Recall: %.3f' % recall_score(y_true=y_test, y_pred=adaboost_clf_yy_pred))\n",
    "print('F1: %.3f' % f1_score(y_true=y_test, y_pred=adaboost_clf_yy_pred))"
   ]
  },
  {
   "cell_type": "markdown",
   "metadata": {},
   "source": [
    "#### Adaboost Classifier\n",
    "##### Mean score: 0.9525 +/- 0.0410\n",
    "##### Final score: 0.97"
   ]
  },
  {
   "cell_type": "markdown",
   "metadata": {},
   "source": [
    "### 6. Gradient boost Classifier"
   ]
  },
  {
   "cell_type": "code",
   "execution_count": 54,
   "metadata": {},
   "outputs": [],
   "source": [
    "from sklearn.ensemble import GradientBoostingClassifier"
   ]
  },
  {
   "cell_type": "code",
   "execution_count": 55,
   "metadata": {},
   "outputs": [],
   "source": [
    "#Best estimator obtained from 06_hyp_grdboost_clf file\n",
    "gb_clf_model = GradientBoostingClassifier(criterion='friedman_mse', init=None,\n",
    "              learning_rate=0.2, loss='deviance', max_depth=3,\n",
    "              max_features=None, max_leaf_nodes=None,\n",
    "              min_impurity_decrease=0.0, min_impurity_split=None,\n",
    "              min_samples_leaf=1, min_samples_split=2,\n",
    "              min_weight_fraction_leaf=0.0, n_estimators=2,\n",
    "              n_iter_no_change=None, presort='auto', random_state=42,\n",
    "              subsample=1.0, tol=0.0001, validation_fraction=0.1,\n",
    "              verbose=0, warm_start=False)"
   ]
  },
  {
   "cell_type": "code",
   "execution_count": 56,
   "metadata": {},
   "outputs": [
    {
     "name": "stdout",
     "output_type": "stream",
     "text": [
      "gb_clf_model_scores:  [0.95  0.95  0.975 0.975 1.    0.975 0.95  0.95  1.    0.925]\n",
      "Mean score:  0.9650000000000001\n",
      "Std deviation:  0.022912878474779203\n"
     ]
    }
   ],
   "source": [
    "gb_clf_model_scores = cross_val_score(gb_clf_model, X_train_std, y_train, cv = 10)\n",
    "print(\"gb_clf_model_scores: \", gb_clf_model_scores)\n",
    "print(\"Mean score: \", gb_clf_model_scores.mean())\n",
    "print(\"Std deviation: \", gb_clf_model_scores.std())"
   ]
  },
  {
   "cell_type": "code",
   "execution_count": 57,
   "metadata": {},
   "outputs": [
    {
     "data": {
      "text/plain": [
       "0.99"
      ]
     },
     "execution_count": 57,
     "metadata": {},
     "output_type": "execute_result"
    }
   ],
   "source": [
    "gb_clf_model.fit(X_train_std, y_train)\n",
    "gb_clf_model_score = gb_clf_model.score(X_test_std, y_test)\n",
    "final_score_list.append(gb_clf_model_score)\n",
    "gb_clf_model_score"
   ]
  },
  {
   "cell_type": "code",
   "execution_count": 58,
   "metadata": {},
   "outputs": [],
   "source": [
    "gb_clf_yy_pred = gb_clf_model.predict(X_test_std) "
   ]
  },
  {
   "cell_type": "code",
   "execution_count": 59,
   "metadata": {},
   "outputs": [
    {
     "name": "stdout",
     "output_type": "stream",
     "text": [
      "[[49  1]\n",
      " [ 0 50]]\n"
     ]
    }
   ],
   "source": [
    "gb_clf_model_confMatrix = confusion_matrix(y_true=y_test, y_pred=tree_clf_yy_pred)\n",
    "print(gb_clf_model_confMatrix)"
   ]
  },
  {
   "cell_type": "code",
   "execution_count": 60,
   "metadata": {},
   "outputs": [
    {
     "name": "stdout",
     "output_type": "stream",
     "text": [
      "Precision: 0.980\n",
      "Recall: 1.000\n",
      "F1: 0.990\n"
     ]
    }
   ],
   "source": [
    "print('Precision: %.3f' % precision_score(y_true=y_test, y_pred=gb_clf_yy_pred))\n",
    "print('Recall: %.3f' % recall_score(y_true=y_test, y_pred=gb_clf_yy_pred))\n",
    "print('F1: %.3f' % f1_score(y_true=y_test, y_pred=gb_clf_yy_pred))"
   ]
  },
  {
   "cell_type": "markdown",
   "metadata": {},
   "source": [
    "#### Gradientboost Classifier\n",
    "##### Mean score:  0.9650 +/- 0.0229\n",
    "##### Final score: 0.99"
   ]
  },
  {
   "cell_type": "code",
   "execution_count": 61,
   "metadata": {},
   "outputs": [
    {
     "name": "stdout",
     "output_type": "stream",
     "text": [
      "[0.94, 0.98, 0.99, 0.99, 0.98, 0.97, 0.99]\n"
     ]
    }
   ],
   "source": [
    "x_plots = range(7)\n",
    "x_labels = ['Logistic Regression', 'SVM Linear', 'SVM rbf', \n",
    "            'Decision Tree', 'Random Forest', 'Adaboost', 'Gradient Boosting']\n",
    "y_plots = final_score_list\n",
    "print(y_plots)"
   ]
  },
  {
   "cell_type": "code",
   "execution_count": 62,
   "metadata": {},
   "outputs": [
    {
     "data": {
      "image/png": "[encoded data removed]",
      "text/plain": [
       "<Figure size 432x288 with 1 Axes>"
      ]
     },
     "metadata": {
      "needs_background": "light"
     },
     "output_type": "display_data"
    }
   ],
   "source": [
    "plt.xticks(x_plots, x_labels, color = 'red', rotation = 40)\n",
    "for i in range(7):\n",
    "    plt.text(x= x_plots[i]-0.2, y= y_plots[i]+0.03, s = \"%.2f\" %(y_plots[i]), color='blue', fontweight='bold')\n",
    "    plt.bar(x_plots[i], y_plots[i], width=0.7)\n",
    "plt.ylim([0,1.2])\n",
    "plt.title(\"Performance Chart\")\n",
    "plt.xlabel(\"Machine learning models\")\n",
    "plt.ylabel(\"Scores\")\n",
    "plt.show()"
   ]
  }
 ],
 "metadata": {
  "kernelspec": {
   "display_name": "Python 3",
   "language": "python",
   "name": "python3"
  },
  "language_info": {
   "codemirror_mode": {
    "name": "ipython",
    "version": 3
   },
   "file_extension": ".py",
   "mimetype": "text/x-python",
   "name": "python",
   "nbconvert_exporter": "python",
   "pygments_lexer": "ipython3",
   "version": "3.6.7"
  }
 },
 "nbformat": 4,
 "nbformat_minor": 2
}
